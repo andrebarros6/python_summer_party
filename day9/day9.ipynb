{
 "cells": [
  {
   "cell_type": "markdown",
   "id": "272cf5a0",
   "metadata": {},
   "source": [
    "Hey there! 👋 Welcome to Day 9 of the Python Party! 🎉\n",
    "\n",
    "I'm Dawn, and I'll be your coding companion today. We're going to work on some fun Python challenges using pandas and data analysis.\n",
    "\n",
    "Let's dive into today's challenge!\n",
    "\n",
    "You are a Product Analyst on the Instagram Stories team investigating story creation patterns. The team wants to understand the distribution of stories created by users daily. You will analyze user storytelling behavior to optimize engagement strategies."
   ]
  },
  {
   "cell_type": "code",
   "execution_count": 2,
   "id": "8b20ac71",
   "metadata": {},
   "outputs": [],
   "source": [
    "import pandas as pd\n",
    "import numpy as np"
   ]
  },
  {
   "cell_type": "code",
   "execution_count": 3,
   "id": "189bf352",
   "metadata": {},
   "outputs": [
    {
     "data": {
      "text/html": [
       "<div>\n",
       "<style scoped>\n",
       "    .dataframe tbody tr th:only-of-type {\n",
       "        vertical-align: middle;\n",
       "    }\n",
       "\n",
       "    .dataframe tbody tr th {\n",
       "        vertical-align: top;\n",
       "    }\n",
       "\n",
       "    .dataframe thead th {\n",
       "        text-align: right;\n",
       "    }\n",
       "</style>\n",
       "<table border=\"1\" class=\"dataframe\">\n",
       "  <thead>\n",
       "    <tr style=\"text-align: right;\">\n",
       "      <th></th>\n",
       "      <th>user_id</th>\n",
       "      <th>story_date</th>\n",
       "      <th>story_count</th>\n",
       "    </tr>\n",
       "  </thead>\n",
       "  <tbody>\n",
       "    <tr>\n",
       "      <th>0</th>\n",
       "      <td>user_001</td>\n",
       "      <td>2024-07-03</td>\n",
       "      <td>3.0</td>\n",
       "    </tr>\n",
       "    <tr>\n",
       "      <th>1</th>\n",
       "      <td>user_001</td>\n",
       "      <td>2024-07-03</td>\n",
       "      <td>3.0</td>\n",
       "    </tr>\n",
       "    <tr>\n",
       "      <th>2</th>\n",
       "      <td>user_001</td>\n",
       "      <td>2024-08-15</td>\n",
       "      <td>5.0</td>\n",
       "    </tr>\n",
       "    <tr>\n",
       "      <th>3</th>\n",
       "      <td>user_001</td>\n",
       "      <td>2024-09-10</td>\n",
       "      <td>0.0</td>\n",
       "    </tr>\n",
       "    <tr>\n",
       "      <th>4</th>\n",
       "      <td>user_001</td>\n",
       "      <td>2024-10-05</td>\n",
       "      <td>20.0</td>\n",
       "    </tr>\n",
       "  </tbody>\n",
       "</table>\n",
       "</div>"
      ],
      "text/plain": [
       "    user_id  story_date  story_count\n",
       "0  user_001  2024-07-03          3.0\n",
       "1  user_001  2024-07-03          3.0\n",
       "2  user_001  2024-08-15          5.0\n",
       "3  user_001  2024-09-10          0.0\n",
       "4  user_001  2024-10-05         20.0"
      ]
     },
     "execution_count": 3,
     "metadata": {},
     "output_type": "execute_result"
    }
   ],
   "source": [
    "stories_data = pd.read_csv(r'C:\\Users\\abarr\\Desktop\\ironhack\\extra\\python summer party\\python_summer_party\\day9\\stories.csv')\n",
    "stories_data.head()"
   ]
  },
  {
   "cell_type": "code",
   "execution_count": 23,
   "id": "5b2e84ac",
   "metadata": {},
   "outputs": [
    {
     "name": "stdout",
     "output_type": "stream",
     "text": [
      "<class 'pandas.core.frame.DataFrame'>\n",
      "RangeIndex: 59 entries, 0 to 58\n",
      "Data columns (total 3 columns):\n",
      " #   Column       Non-Null Count  Dtype  \n",
      "---  ------       --------------  -----  \n",
      " 0   user_id      58 non-null     object \n",
      " 1   story_date   54 non-null     object \n",
      " 2   story_count  58 non-null     float64\n",
      "dtypes: float64(1), object(2)\n",
      "memory usage: 1.5+ KB\n"
     ]
    }
   ],
   "source": [
    "stories_data.info()"
   ]
  },
  {
   "cell_type": "markdown",
   "id": "79311b05",
   "metadata": {},
   "source": [
    "### 1\n",
    "Take a look at the data in the story_date column. Correct any data type inconsistencies in that column."
   ]
  },
  {
   "cell_type": "code",
   "execution_count": 22,
   "id": "24759487",
   "metadata": {},
   "outputs": [
    {
     "data": {
      "text/plain": [
       "0     user_001\n",
       "1     user_001\n",
       "2     user_001\n",
       "3     user_001\n",
       "4     user_001\n",
       "5     user_001\n",
       "6     user_002\n",
       "7     user_002\n",
       "8     user_002\n",
       "9     user_002\n",
       "10    user_002\n",
       "11    user_002\n",
       "12    user_003\n",
       "13    user_003\n",
       "14    user_003\n",
       "15    user_003\n",
       "16        <NA>\n",
       "17    USER_003\n",
       "18    user_004\n",
       "19    user_004\n",
       "20    user_004\n",
       "21    user_004\n",
       "22    user_004\n",
       "23    user_004\n",
       "24    user_005\n",
       "25    user_005\n",
       "26    user_005\n",
       "27    user_005\n",
       "28    user_005\n",
       "29    user_005\n",
       "30    user_006\n",
       "31    user_006\n",
       "32    user_006\n",
       "33    user_006\n",
       "34    user_006\n",
       "35    user_006\n",
       "36    user_007\n",
       "37    user_007\n",
       "38    user_007\n",
       "39    user_007\n",
       "40    user_007\n",
       "41    user_007\n",
       "42    user_008\n",
       "43    user_008\n",
       "44    user_008\n",
       "45    user_008\n",
       "46    user_008\n",
       "47    user_008\n",
       "48    user_009\n",
       "49    user_009\n",
       "50    user_009\n",
       "51    user_009\n",
       "52    user_009\n",
       "53    user_009\n",
       "54    user_010\n",
       "55    user_010\n",
       "56    user_010\n",
       "57    user_010\n",
       "58    user_010\n",
       "Name: user_id, dtype: string"
      ]
     },
     "execution_count": 22,
     "metadata": {},
     "output_type": "execute_result"
    }
   ],
   "source": [
    "stories_data['user_id'].astype('string')\n",
    "#stories_data['user_id'].lower()"
   ]
  },
  {
   "cell_type": "code",
   "execution_count": 16,
   "id": "9f4ef589",
   "metadata": {},
   "outputs": [
    {
     "data": {
      "text/plain": [
       "5"
      ]
     },
     "execution_count": 16,
     "metadata": {},
     "output_type": "execute_result"
    }
   ],
   "source": [
    "stories_data['story_date'].isnull().sum()"
   ]
  },
  {
   "cell_type": "code",
   "execution_count": null,
   "id": "6d8c3b0c",
   "metadata": {},
   "outputs": [],
   "source": [
    "stories_data['story_date'] = pd.to_datetime(stories_data['story_date'], format= '%Y-%m-%d')"
   ]
  }
 ],
 "metadata": {
  "kernelspec": {
   "display_name": "base",
   "language": "python",
   "name": "python3"
  },
  "language_info": {
   "codemirror_mode": {
    "name": "ipython",
    "version": 3
   },
   "file_extension": ".py",
   "mimetype": "text/x-python",
   "name": "python",
   "nbconvert_exporter": "python",
   "pygments_lexer": "ipython3",
   "version": "3.12.7"
  }
 },
 "nbformat": 4,
 "nbformat_minor": 5
}

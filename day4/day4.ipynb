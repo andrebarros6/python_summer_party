{
 "cells": [
  {
   "cell_type": "markdown",
   "id": "a09e118f",
   "metadata": {},
   "source": [
    "Hey there! 👋 Welcome to Day 4 of the Python Party! 🎉\n",
    "\n",
    "I'm Dawn, and I'll be your coding companion today. We're going to work on some fun Python challenges using pandas and data analysis.\n",
    "\n",
    "Let's dive into today's challenge!\n",
    "\n",
    "You are a Product Analyst on the Google Search team investigating user engagement with search result pages. The team wants to understand how different numbers of search results impact user interaction time. Your analysis will help optimize the current search results presentation strategy."
   ]
  },
  {
   "cell_type": "code",
   "execution_count": 7,
   "id": "9950ecab",
   "metadata": {},
   "outputs": [],
   "source": [
    "import pandas as pd\n",
    "import numpy as np"
   ]
  },
  {
   "cell_type": "code",
   "execution_count": 10,
   "id": "69e84156",
   "metadata": {},
   "outputs": [
    {
     "data": {
      "text/html": [
       "<div>\n",
       "<style scoped>\n",
       "    .dataframe tbody tr th:only-of-type {\n",
       "        vertical-align: middle;\n",
       "    }\n",
       "\n",
       "    .dataframe tbody tr th {\n",
       "        vertical-align: top;\n",
       "    }\n",
       "\n",
       "    .dataframe thead th {\n",
       "        text-align: right;\n",
       "    }\n",
       "</style>\n",
       "<table border=\"1\" class=\"dataframe\">\n",
       "  <thead>\n",
       "    <tr style=\"text-align: right;\">\n",
       "      <th></th>\n",
       "      <th>user_id</th>\n",
       "      <th>interaction_date</th>\n",
       "      <th>interaction_time</th>\n",
       "      <th>search_results_displayed</th>\n",
       "    </tr>\n",
       "  </thead>\n",
       "  <tbody>\n",
       "    <tr>\n",
       "      <th>0</th>\n",
       "      <td>user_1</td>\n",
       "      <td>2024-07-05</td>\n",
       "      <td>35.5</td>\n",
       "      <td>10</td>\n",
       "    </tr>\n",
       "    <tr>\n",
       "      <th>1</th>\n",
       "      <td>user_2</td>\n",
       "      <td>2024-07-10</td>\n",
       "      <td>22.3</td>\n",
       "      <td>5</td>\n",
       "    </tr>\n",
       "    <tr>\n",
       "      <th>2</th>\n",
       "      <td>user_1</td>\n",
       "      <td>2024-07-05</td>\n",
       "      <td>35.5</td>\n",
       "      <td>10</td>\n",
       "    </tr>\n",
       "    <tr>\n",
       "      <th>3</th>\n",
       "      <td>user_3</td>\n",
       "      <td>2024-08-01</td>\n",
       "      <td>48.0</td>\n",
       "      <td>15</td>\n",
       "    </tr>\n",
       "    <tr>\n",
       "      <th>4</th>\n",
       "      <td>user_4</td>\n",
       "      <td>2024-08-15</td>\n",
       "      <td>NaN</td>\n",
       "      <td>20</td>\n",
       "    </tr>\n",
       "  </tbody>\n",
       "</table>\n",
       "</div>"
      ],
      "text/plain": [
       "  user_id interaction_date  interaction_time  search_results_displayed\n",
       "0  user_1       2024-07-05              35.5                        10\n",
       "1  user_2       2024-07-10              22.3                         5\n",
       "2  user_1       2024-07-05              35.5                        10\n",
       "3  user_3       2024-08-01              48.0                        15\n",
       "4  user_4       2024-08-15               NaN                        20"
      ]
     },
     "execution_count": 10,
     "metadata": {},
     "output_type": "execute_result"
    }
   ],
   "source": [
    "user_engagement_data = pd.read_csv(r\"C:\\Users\\abarr\\Desktop\\ironhack\\extra\\python summer party\\day4\\engage.csv\")\n",
    "user_engagement_data.head()"
   ]
  },
  {
   "cell_type": "code",
   "execution_count": null,
   "id": "4d897b9a",
   "metadata": {},
   "outputs": [
    {
     "name": "stdout",
     "output_type": "stream",
     "text": [
      "<class 'pandas.core.frame.DataFrame'>\n",
      "RangeIndex: 60 entries, 0 to 59\n",
      "Data columns (total 4 columns):\n",
      " #   Column                    Non-Null Count  Dtype         \n",
      "---  ------                    --------------  -----         \n",
      " 0   user_id                   60 non-null     object        \n",
      " 1   interaction_date          60 non-null     datetime64[ns]\n",
      " 2   interaction_time          56 non-null     float64       \n",
      " 3   search_results_displayed  60 non-null     int64         \n",
      "dtypes: datetime64[ns](1), float64(1), int64(1), object(1)\n",
      "memory usage: 2.0+ KB\n"
     ]
    }
   ],
   "source": [
    "user_engagement_data['interaction_date'] = pd.to_datetime(user_engagement_data['interaction_date'], format= '%Y-%m-%d')\n"
   ]
  },
  {
   "cell_type": "code",
   "execution_count": 21,
   "id": "6b4a1857",
   "metadata": {},
   "outputs": [
    {
     "name": "stdout",
     "output_type": "stream",
     "text": [
      "<class 'pandas.core.frame.DataFrame'>\n",
      "RangeIndex: 60 entries, 0 to 59\n",
      "Data columns (total 4 columns):\n",
      " #   Column                    Non-Null Count  Dtype         \n",
      "---  ------                    --------------  -----         \n",
      " 0   user_id                   60 non-null     object        \n",
      " 1   interaction_date          60 non-null     datetime64[ns]\n",
      " 2   interaction_time          56 non-null     float64       \n",
      " 3   search_results_displayed  60 non-null     int64         \n",
      "dtypes: datetime64[ns](1), float64(1), int64(1), object(1)\n",
      "memory usage: 2.0+ KB\n"
     ]
    }
   ],
   "source": [
    "user_engagement_data.info()"
   ]
  },
  {
   "cell_type": "markdown",
   "id": "557379e3",
   "metadata": {},
   "source": [
    "### 1 \n",
    "Identify and remove any duplicate entries in the dataset to ensure data quality. How many duplicates were found and removed?"
   ]
  },
  {
   "cell_type": "code",
   "execution_count": null,
   "id": "316c9803",
   "metadata": {},
   "outputs": [],
   "source": [
    "count_dup = user_engagement_data.duplicated().sum()"
   ]
  },
  {
   "cell_type": "code",
   "execution_count": 25,
   "id": "6694f97e",
   "metadata": {},
   "outputs": [],
   "source": [
    "user_engagement_data.drop_duplicates(inplace=True)"
   ]
  },
  {
   "cell_type": "code",
   "execution_count": 27,
   "id": "3060dbaf",
   "metadata": {},
   "outputs": [
    {
     "name": "stdout",
     "output_type": "stream",
     "text": [
      "2\n"
     ]
    }
   ],
   "source": [
    "print(count_dup)"
   ]
  },
  {
   "cell_type": "markdown",
   "id": "00274da6",
   "metadata": {},
   "source": [
    "### 2\n",
    "After dropping duplicates, aggregate the data to find the average user interaction time for each number of search results displayed per page. What are the average interaction times?"
   ]
  },
  {
   "cell_type": "code",
   "execution_count": 30,
   "id": "e747f70c",
   "metadata": {},
   "outputs": [
    {
     "data": {
      "text/plain": [
       "search_results_displayed\n",
       "5     41.625000\n",
       "10    75.400000\n",
       "15    67.107143\n",
       "20    59.730769\n",
       "Name: interaction_time, dtype: float64"
      ]
     },
     "execution_count": 30,
     "metadata": {},
     "output_type": "execute_result"
    }
   ],
   "source": [
    "avg_int_time = user_engagement_data.groupby('search_results_displayed')['interaction_time'].mean()\n",
    "avg_int_time"
   ]
  },
  {
   "cell_type": "markdown",
   "id": "bdf20e10",
   "metadata": {},
   "source": [
    "### 3\n",
    "Sort the aggregated results from Q2 to determine which number of search results per page has the highest average user interaction time. What is the optimal number of search results per page?"
   ]
  },
  {
   "cell_type": "code",
   "execution_count": 37,
   "id": "034701ec",
   "metadata": {},
   "outputs": [
    {
     "data": {
      "text/plain": [
       "search_results_displayed\n",
       "10    75.400000\n",
       "15    67.107143\n",
       "20    59.730769\n",
       "5     41.625000\n",
       "Name: interaction_time, dtype: float64"
      ]
     },
     "execution_count": 37,
     "metadata": {},
     "output_type": "execute_result"
    }
   ],
   "source": [
    "sorted = avg_int_time.sort_values(ascending=False)\n",
    "sorted"
   ]
  },
  {
   "cell_type": "code",
   "execution_count": 48,
   "id": "b575b56d",
   "metadata": {},
   "outputs": [
    {
     "data": {
      "text/plain": [
       "10"
      ]
     },
     "execution_count": 48,
     "metadata": {},
     "output_type": "execute_result"
    }
   ],
   "source": [
    "sorted.index[0]"
   ]
  },
  {
   "cell_type": "code",
   "execution_count": 41,
   "id": "1963c87e",
   "metadata": {},
   "outputs": [
    {
     "data": {
      "text/plain": [
       "user_id                                  user_1\n",
       "interaction_date            2024-07-05 00:00:00\n",
       "interaction_time                           35.5\n",
       "search_results_displayed                     10\n",
       "Name: 0, dtype: object"
      ]
     },
     "execution_count": 41,
     "metadata": {},
     "output_type": "execute_result"
    }
   ],
   "source": [
    "user_engagement_data.loc[0]"
   ]
  }
 ],
 "metadata": {
  "kernelspec": {
   "display_name": "base",
   "language": "python",
   "name": "python3"
  },
  "language_info": {
   "codemirror_mode": {
    "name": "ipython",
    "version": 3
   },
   "file_extension": ".py",
   "mimetype": "text/x-python",
   "name": "python",
   "nbconvert_exporter": "python",
   "pygments_lexer": "ipython3",
   "version": "3.12.7"
  }
 },
 "nbformat": 4,
 "nbformat_minor": 5
}

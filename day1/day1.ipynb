{
 "cells": [
  {
   "cell_type": "markdown",
   "id": "feb813a3",
   "metadata": {},
   "source": [
    "Hey there! 👋 Welcome to Day 1 of the Python Party! 🎉\n",
    "\n",
    "I'm Dawn, and I'll be your coding companion today. We're going to work on some fun Python challenges using pandas and data analysis.\n",
    "\n",
    "Let's dive into today's challenge!\n",
    "\n",
    "You are a Product Analyst on the WhatsApp team investigating group messaging dynamics. Your team wants to understand how large groups are being used and their messaging patterns. You'll leverage data to uncover insights about group participation and communication behaviors."
   ]
  },
  {
   "cell_type": "code",
   "execution_count": 1,
   "id": "206a65bd",
   "metadata": {},
   "outputs": [],
   "source": [
    "import pandas as pd\n",
    "import numpy as np"
   ]
  },
  {
   "cell_type": "code",
   "execution_count": 3,
   "id": "d5f81db2",
   "metadata": {},
   "outputs": [],
   "source": [
    "dim_groups = pd.read_csv(r\"C:\\Users\\abarr\\Desktop\\ironhack\\extra\\python summer party\\day1\\WA.csv\")"
   ]
  },
  {
   "cell_type": "code",
   "execution_count": 10,
   "id": "d532a3d1",
   "metadata": {},
   "outputs": [
    {
     "data": {
      "text/html": [
       "<div>\n",
       "<style scoped>\n",
       "    .dataframe tbody tr th:only-of-type {\n",
       "        vertical-align: middle;\n",
       "    }\n",
       "\n",
       "    .dataframe tbody tr th {\n",
       "        vertical-align: top;\n",
       "    }\n",
       "\n",
       "    .dataframe thead th {\n",
       "        text-align: right;\n",
       "    }\n",
       "</style>\n",
       "<table border=\"1\" class=\"dataframe\">\n",
       "  <thead>\n",
       "    <tr style=\"text-align: right;\">\n",
       "      <th></th>\n",
       "      <th>group_id</th>\n",
       "      <th>created_date</th>\n",
       "      <th>total_messages</th>\n",
       "      <th>participant_count</th>\n",
       "    </tr>\n",
       "  </thead>\n",
       "  <tbody>\n",
       "    <tr>\n",
       "      <th>0</th>\n",
       "      <td>1</td>\n",
       "      <td>2024-10-01</td>\n",
       "      <td>100</td>\n",
       "      <td>25</td>\n",
       "    </tr>\n",
       "    <tr>\n",
       "      <th>1</th>\n",
       "      <td>2</td>\n",
       "      <td>2024-10-10</td>\n",
       "      <td>200</td>\n",
       "      <td>55</td>\n",
       "    </tr>\n",
       "    <tr>\n",
       "      <th>2</th>\n",
       "      <td>3</td>\n",
       "      <td>2024-11-05</td>\n",
       "      <td>150</td>\n",
       "      <td>40</td>\n",
       "    </tr>\n",
       "    <tr>\n",
       "      <th>3</th>\n",
       "      <td>4</td>\n",
       "      <td>2024-10-15</td>\n",
       "      <td>500</td>\n",
       "      <td>100</td>\n",
       "    </tr>\n",
       "    <tr>\n",
       "      <th>4</th>\n",
       "      <td>5</td>\n",
       "      <td>2024-12-01</td>\n",
       "      <td>120</td>\n",
       "      <td>35</td>\n",
       "    </tr>\n",
       "    <tr>\n",
       "      <th>5</th>\n",
       "      <td>6</td>\n",
       "      <td>2024-10-20</td>\n",
       "      <td>300</td>\n",
       "      <td>50</td>\n",
       "    </tr>\n",
       "    <tr>\n",
       "      <th>6</th>\n",
       "      <td>7</td>\n",
       "      <td>2024-10-25</td>\n",
       "      <td>400</td>\n",
       "      <td>60</td>\n",
       "    </tr>\n",
       "    <tr>\n",
       "      <th>7</th>\n",
       "      <td>8</td>\n",
       "      <td>2024-11-10</td>\n",
       "      <td>220</td>\n",
       "      <td>45</td>\n",
       "    </tr>\n",
       "    <tr>\n",
       "      <th>8</th>\n",
       "      <td>9</td>\n",
       "      <td>2024-10-30</td>\n",
       "      <td>450</td>\n",
       "      <td>80</td>\n",
       "    </tr>\n",
       "    <tr>\n",
       "      <th>9</th>\n",
       "      <td>10</td>\n",
       "      <td>2024-12-15</td>\n",
       "      <td>80</td>\n",
       "      <td>15</td>\n",
       "    </tr>\n",
       "    <tr>\n",
       "      <th>10</th>\n",
       "      <td>11</td>\n",
       "      <td>2024-10-05</td>\n",
       "      <td>600</td>\n",
       "      <td>90</td>\n",
       "    </tr>\n",
       "    <tr>\n",
       "      <th>11</th>\n",
       "      <td>12</td>\n",
       "      <td>2024-10-12</td>\n",
       "      <td>50</td>\n",
       "      <td>10</td>\n",
       "    </tr>\n",
       "  </tbody>\n",
       "</table>\n",
       "</div>"
      ],
      "text/plain": [
       "    group_id created_date  total_messages  participant_count\n",
       "0          1   2024-10-01             100                 25\n",
       "1          2   2024-10-10             200                 55\n",
       "2          3   2024-11-05             150                 40\n",
       "3          4   2024-10-15             500                100\n",
       "4          5   2024-12-01             120                 35\n",
       "5          6   2024-10-20             300                 50\n",
       "6          7   2024-10-25             400                 60\n",
       "7          8   2024-11-10             220                 45\n",
       "8          9   2024-10-30             450                 80\n",
       "9         10   2024-12-15              80                 15\n",
       "10        11   2024-10-05             600                 90\n",
       "11        12   2024-10-12              50                 10"
      ]
     },
     "execution_count": 10,
     "metadata": {},
     "output_type": "execute_result"
    }
   ],
   "source": [
    "dim_groups"
   ]
  },
  {
   "cell_type": "code",
   "execution_count": 9,
   "id": "544756ca",
   "metadata": {},
   "outputs": [
    {
     "name": "stdout",
     "output_type": "stream",
     "text": [
      "<class 'pandas.core.frame.DataFrame'>\n",
      "RangeIndex: 12 entries, 0 to 11\n",
      "Data columns (total 4 columns):\n",
      " #   Column             Non-Null Count  Dtype         \n",
      "---  ------             --------------  -----         \n",
      " 0   group_id           12 non-null     int64         \n",
      " 1   created_date       12 non-null     datetime64[ns]\n",
      " 2   total_messages     12 non-null     int64         \n",
      " 3   participant_count  12 non-null     int64         \n",
      "dtypes: datetime64[ns](1), int64(3)\n",
      "memory usage: 516.0 bytes\n"
     ]
    }
   ],
   "source": [
    "dim_groups.info()"
   ]
  },
  {
   "cell_type": "code",
   "execution_count": 8,
   "id": "6a42e2ef",
   "metadata": {},
   "outputs": [],
   "source": [
    "dim_groups['created_date'] = pd.to_datetime(dim_groups['created_date'], format='%Y-%m-%d')"
   ]
  },
  {
   "cell_type": "code",
   "execution_count": 13,
   "id": "c7ca1050",
   "metadata": {},
   "outputs": [],
   "source": [
    "oct = dim_groups[dim_groups['created_date'].dt.month == 10]"
   ]
  },
  {
   "cell_type": "code",
   "execution_count": 15,
   "id": "e7050c59",
   "metadata": {},
   "outputs": [
    {
     "data": {
      "text/html": [
       "<div>\n",
       "<style scoped>\n",
       "    .dataframe tbody tr th:only-of-type {\n",
       "        vertical-align: middle;\n",
       "    }\n",
       "\n",
       "    .dataframe tbody tr th {\n",
       "        vertical-align: top;\n",
       "    }\n",
       "\n",
       "    .dataframe thead th {\n",
       "        text-align: right;\n",
       "    }\n",
       "</style>\n",
       "<table border=\"1\" class=\"dataframe\">\n",
       "  <thead>\n",
       "    <tr style=\"text-align: right;\">\n",
       "      <th></th>\n",
       "      <th>group_id</th>\n",
       "      <th>created_date</th>\n",
       "      <th>total_messages</th>\n",
       "      <th>participant_count</th>\n",
       "    </tr>\n",
       "  </thead>\n",
       "  <tbody>\n",
       "    <tr>\n",
       "      <th>0</th>\n",
       "      <td>1</td>\n",
       "      <td>2024-10-01</td>\n",
       "      <td>100</td>\n",
       "      <td>25</td>\n",
       "    </tr>\n",
       "    <tr>\n",
       "      <th>1</th>\n",
       "      <td>2</td>\n",
       "      <td>2024-10-10</td>\n",
       "      <td>200</td>\n",
       "      <td>55</td>\n",
       "    </tr>\n",
       "    <tr>\n",
       "      <th>3</th>\n",
       "      <td>4</td>\n",
       "      <td>2024-10-15</td>\n",
       "      <td>500</td>\n",
       "      <td>100</td>\n",
       "    </tr>\n",
       "    <tr>\n",
       "      <th>5</th>\n",
       "      <td>6</td>\n",
       "      <td>2024-10-20</td>\n",
       "      <td>300</td>\n",
       "      <td>50</td>\n",
       "    </tr>\n",
       "    <tr>\n",
       "      <th>6</th>\n",
       "      <td>7</td>\n",
       "      <td>2024-10-25</td>\n",
       "      <td>400</td>\n",
       "      <td>60</td>\n",
       "    </tr>\n",
       "    <tr>\n",
       "      <th>8</th>\n",
       "      <td>9</td>\n",
       "      <td>2024-10-30</td>\n",
       "      <td>450</td>\n",
       "      <td>80</td>\n",
       "    </tr>\n",
       "    <tr>\n",
       "      <th>10</th>\n",
       "      <td>11</td>\n",
       "      <td>2024-10-05</td>\n",
       "      <td>600</td>\n",
       "      <td>90</td>\n",
       "    </tr>\n",
       "    <tr>\n",
       "      <th>11</th>\n",
       "      <td>12</td>\n",
       "      <td>2024-10-12</td>\n",
       "      <td>50</td>\n",
       "      <td>10</td>\n",
       "    </tr>\n",
       "  </tbody>\n",
       "</table>\n",
       "</div>"
      ],
      "text/plain": [
       "    group_id created_date  total_messages  participant_count\n",
       "0          1   2024-10-01             100                 25\n",
       "1          2   2024-10-10             200                 55\n",
       "3          4   2024-10-15             500                100\n",
       "5          6   2024-10-20             300                 50\n",
       "6          7   2024-10-25             400                 60\n",
       "8          9   2024-10-30             450                 80\n",
       "10        11   2024-10-05             600                 90\n",
       "11        12   2024-10-12              50                 10"
      ]
     },
     "execution_count": 15,
     "metadata": {},
     "output_type": "execute_result"
    }
   ],
   "source": [
    "oct"
   ]
  },
  {
   "cell_type": "markdown",
   "id": "79f4f48e",
   "metadata": {},
   "source": [
    "### 1 \n",
    "What is the maximum number of participants among WhatsApp groups that were created in October 2024? This metric will help us understand the largest group size available."
   ]
  },
  {
   "cell_type": "code",
   "execution_count": null,
   "id": "b82a815f",
   "metadata": {},
   "outputs": [
    {
     "data": {
      "text/plain": [
       "100"
      ]
     },
     "execution_count": 16,
     "metadata": {},
     "output_type": "execute_result"
    }
   ],
   "source": [
    "max_group = oct['participant_count'].max()"
   ]
  },
  {
   "cell_type": "code",
   "execution_count": 17,
   "id": "ca0a62fc",
   "metadata": {},
   "outputs": [
    {
     "data": {
      "text/plain": [
       "4"
      ]
     },
     "execution_count": 17,
     "metadata": {},
     "output_type": "execute_result"
    }
   ],
   "source": [
    "max_idx = oct['participant_count'].idxmax()\n",
    "\n",
    "max_group_id = oct.loc[max_idx, 'group_id']\n",
    "\n",
    "max_group_id"
   ]
  },
  {
   "cell_type": "markdown",
   "id": "8366fb1e",
   "metadata": {},
   "source": [
    "### 2 \n",
    " What is the average number of participants in WhatsApp groups that were created in October 2024? This number will indicate the typical group size and inform our group messaging feature considerations."
   ]
  },
  {
   "cell_type": "code",
   "execution_count": 19,
   "id": "490ac4e9",
   "metadata": {},
   "outputs": [],
   "source": [
    "avg_group = oct['participant_count'].mean()"
   ]
  },
  {
   "cell_type": "code",
   "execution_count": 20,
   "id": "2be06b64",
   "metadata": {},
   "outputs": [
    {
     "data": {
      "text/plain": [
       "58.75"
      ]
     },
     "execution_count": 20,
     "metadata": {},
     "output_type": "execute_result"
    }
   ],
   "source": [
    "avg_group"
   ]
  },
  {
   "cell_type": "markdown",
   "id": "a18c1643",
   "metadata": {},
   "source": [
    "### 3 \n",
    "For WhatsApp groups with more than 50 participants that were created in October 2024, what is the average number of messages sent? This insight will help assess engagement in larger groups and support recommendations for group messaging features."
   ]
  },
  {
   "cell_type": "code",
   "execution_count": null,
   "id": "a6d5b694",
   "metadata": {},
   "outputs": [],
   "source": [
    "df_oct = dim_groups[(dim_groups['created_date'] >= '2024-10-01') & (dim_groups['created_date'] < '2024-11-01')]\n",
    "df_oct_big = df_oct[(df_oct['participant_count'] > 50)]\n",
    "\n",
    "avg_msg = df_oct_big['total_messages'].mean()\n",
    "\n",
    "print(f'{avg_msg}')"
   ]
  }
 ],
 "metadata": {
  "kernelspec": {
   "display_name": "base",
   "language": "python",
   "name": "python3"
  },
  "language_info": {
   "codemirror_mode": {
    "name": "ipython",
    "version": 3
   },
   "file_extension": ".py",
   "mimetype": "text/x-python",
   "name": "python",
   "nbconvert_exporter": "python",
   "pygments_lexer": "ipython3",
   "version": "3.12.7"
  }
 },
 "nbformat": 4,
 "nbformat_minor": 5
}

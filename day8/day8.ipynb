{
 "cells": [
  {
   "cell_type": "markdown",
   "id": "414d8b1e",
   "metadata": {},
   "source": [
    "Hey there! 👋 Welcome to Day 8 of the Python Party! 🎉\n",
    "\n",
    "I'm Dawn, and I'll be your coding companion today. We're going to work on some fun Python challenges using pandas and data analysis.\n",
    "\n",
    "Let's dive into today's challenge!\n",
    "\n",
    "You are a Product Analyst for the Lululemon Online Store team investigating how alternative payment methods might influence sales performance. The team wants to understand the potential impact of introducing a new installment payment option. Your analysis will predict sales lift and customer conversion for the proposed payment metho"
   ]
  },
  {
   "cell_type": "code",
   "execution_count": 1,
   "id": "9b34448b",
   "metadata": {},
   "outputs": [],
   "source": [
    "import pandas as pd\n",
    "import numpy as np"
   ]
  },
  {
   "cell_type": "code",
   "execution_count": 3,
   "id": "b62b5ff3",
   "metadata": {},
   "outputs": [
    {
     "data": {
      "text/html": [
       "<div>\n",
       "<style scoped>\n",
       "    .dataframe tbody tr th:only-of-type {\n",
       "        vertical-align: middle;\n",
       "    }\n",
       "\n",
       "    .dataframe tbody tr th {\n",
       "        vertical-align: top;\n",
       "    }\n",
       "\n",
       "    .dataframe thead th {\n",
       "        text-align: right;\n",
       "    }\n",
       "</style>\n",
       "<table border=\"1\" class=\"dataframe\">\n",
       "  <thead>\n",
       "    <tr style=\"text-align: right;\">\n",
       "      <th></th>\n",
       "      <th>customer_id</th>\n",
       "      <th>order_value</th>\n",
       "      <th>payment_method</th>\n",
       "      <th>transaction_id</th>\n",
       "      <th>transaction_date</th>\n",
       "    </tr>\n",
       "  </thead>\n",
       "  <tbody>\n",
       "    <tr>\n",
       "      <th>0</th>\n",
       "      <td>201</td>\n",
       "      <td>250</td>\n",
       "      <td>credit_card</td>\n",
       "      <td>1</td>\n",
       "      <td>2025-03-15</td>\n",
       "    </tr>\n",
       "    <tr>\n",
       "      <th>1</th>\n",
       "      <td>202</td>\n",
       "      <td>95</td>\n",
       "      <td>debit_card</td>\n",
       "      <td>2</td>\n",
       "      <td>2025-03-20</td>\n",
       "    </tr>\n",
       "    <tr>\n",
       "      <th>2</th>\n",
       "      <td>203</td>\n",
       "      <td>75</td>\n",
       "      <td>paypal</td>\n",
       "      <td>3</td>\n",
       "      <td>2025-03-25</td>\n",
       "    </tr>\n",
       "    <tr>\n",
       "      <th>3</th>\n",
       "      <td>204</td>\n",
       "      <td>310</td>\n",
       "      <td>credit_card</td>\n",
       "      <td>4</td>\n",
       "      <td>2024-11-10</td>\n",
       "    </tr>\n",
       "    <tr>\n",
       "      <th>4</th>\n",
       "      <td>205</td>\n",
       "      <td>65</td>\n",
       "      <td>paypal</td>\n",
       "      <td>5</td>\n",
       "      <td>2024-12-05</td>\n",
       "    </tr>\n",
       "  </tbody>\n",
       "</table>\n",
       "</div>"
      ],
      "text/plain": [
       "   customer_id  order_value payment_method  transaction_id transaction_date\n",
       "0          201          250    credit_card               1       2025-03-15\n",
       "1          202           95     debit_card               2       2025-03-20\n",
       "2          203           75         paypal               3       2025-03-25\n",
       "3          204          310    credit_card               4       2024-11-10\n",
       "4          205           65         paypal               5       2024-12-05"
      ]
     },
     "execution_count": 3,
     "metadata": {},
     "output_type": "execute_result"
    }
   ],
   "source": [
    "fct_payments = pd.read_csv(r\"C:\\Users\\abarr\\Desktop\\ironhack\\extra\\python summer party\\day8\\payments.csv\")\n",
    "fct_payments.head()"
   ]
  },
  {
   "cell_type": "code",
   "execution_count": 6,
   "id": "f953c395",
   "metadata": {},
   "outputs": [
    {
     "name": "stdout",
     "output_type": "stream",
     "text": [
      "<class 'pandas.core.frame.DataFrame'>\n",
      "RangeIndex: 50 entries, 0 to 49\n",
      "Data columns (total 5 columns):\n",
      " #   Column            Non-Null Count  Dtype         \n",
      "---  ------            --------------  -----         \n",
      " 0   customer_id       50 non-null     int64         \n",
      " 1   order_value       50 non-null     int64         \n",
      " 2   payment_method    50 non-null     object        \n",
      " 3   transaction_id    50 non-null     int64         \n",
      " 4   transaction_date  50 non-null     datetime64[ns]\n",
      "dtypes: datetime64[ns](1), int64(3), object(1)\n",
      "memory usage: 2.1+ KB\n"
     ]
    }
   ],
   "source": [
    "fct_payments.info()"
   ]
  },
  {
   "cell_type": "code",
   "execution_count": 5,
   "id": "052619e1",
   "metadata": {},
   "outputs": [],
   "source": [
    "fct_payments['transaction_date'] = pd.to_datetime(fct_payments['transaction_date'], format= '%Y-%m-%d')"
   ]
  },
  {
   "cell_type": "markdown",
   "id": "56998ca9",
   "metadata": {},
   "source": [
    "### 1 \n",
    "Between April 1st and June 30th, 2025, what is the count of transactions for each payment method? This analysis will establish the baseline distribution of how customers currently pay."
   ]
  },
  {
   "cell_type": "code",
   "execution_count": 9,
   "id": "471f652c",
   "metadata": {},
   "outputs": [
    {
     "data": {
      "text/html": [
       "<div>\n",
       "<style scoped>\n",
       "    .dataframe tbody tr th:only-of-type {\n",
       "        vertical-align: middle;\n",
       "    }\n",
       "\n",
       "    .dataframe tbody tr th {\n",
       "        vertical-align: top;\n",
       "    }\n",
       "\n",
       "    .dataframe thead th {\n",
       "        text-align: right;\n",
       "    }\n",
       "</style>\n",
       "<table border=\"1\" class=\"dataframe\">\n",
       "  <thead>\n",
       "    <tr style=\"text-align: right;\">\n",
       "      <th></th>\n",
       "      <th>customer_id</th>\n",
       "      <th>order_value</th>\n",
       "      <th>payment_method</th>\n",
       "      <th>transaction_id</th>\n",
       "      <th>transaction_date</th>\n",
       "    </tr>\n",
       "  </thead>\n",
       "  <tbody>\n",
       "    <tr>\n",
       "      <th>10</th>\n",
       "      <td>101</td>\n",
       "      <td>275</td>\n",
       "      <td>credit_card</td>\n",
       "      <td>11</td>\n",
       "      <td>2025-04-02</td>\n",
       "    </tr>\n",
       "    <tr>\n",
       "      <th>11</th>\n",
       "      <td>102</td>\n",
       "      <td>285</td>\n",
       "      <td>credit_card</td>\n",
       "      <td>12</td>\n",
       "      <td>2025-04-05</td>\n",
       "    </tr>\n",
       "    <tr>\n",
       "      <th>12</th>\n",
       "      <td>103</td>\n",
       "      <td>280</td>\n",
       "      <td>credit_card</td>\n",
       "      <td>13</td>\n",
       "      <td>2025-04-10</td>\n",
       "    </tr>\n",
       "    <tr>\n",
       "      <th>13</th>\n",
       "      <td>104</td>\n",
       "      <td>290</td>\n",
       "      <td>credit_card</td>\n",
       "      <td>14</td>\n",
       "      <td>2025-04-15</td>\n",
       "    </tr>\n",
       "    <tr>\n",
       "      <th>14</th>\n",
       "      <td>105</td>\n",
       "      <td>270</td>\n",
       "      <td>credit_card</td>\n",
       "      <td>15</td>\n",
       "      <td>2025-04-20</td>\n",
       "    </tr>\n",
       "  </tbody>\n",
       "</table>\n",
       "</div>"
      ],
      "text/plain": [
       "    customer_id  order_value payment_method  transaction_id transaction_date\n",
       "10          101          275    credit_card              11       2025-04-02\n",
       "11          102          285    credit_card              12       2025-04-05\n",
       "12          103          280    credit_card              13       2025-04-10\n",
       "13          104          290    credit_card              14       2025-04-15\n",
       "14          105          270    credit_card              15       2025-04-20"
      ]
     },
     "execution_count": 9,
     "metadata": {},
     "output_type": "execute_result"
    }
   ],
   "source": [
    "q2_payments = fct_payments[(fct_payments['transaction_date'] >= '2025-04-01') & (fct_payments['transaction_date'] <= '2025-06-30')]\n",
    "q2_payments.head()"
   ]
  },
  {
   "cell_type": "code",
   "execution_count": 10,
   "id": "2cec352c",
   "metadata": {},
   "outputs": [
    {
     "data": {
      "text/plain": [
       "payment_method\n",
       "credit_card    25\n",
       "debit_card      8\n",
       "paypal          7\n",
       "Name: count, dtype: int64"
      ]
     },
     "execution_count": 10,
     "metadata": {},
     "output_type": "execute_result"
    }
   ],
   "source": [
    "q2_payments['payment_method'].value_counts()"
   ]
  },
  {
   "cell_type": "code",
   "execution_count": 11,
   "id": "7893074e",
   "metadata": {},
   "outputs": [
    {
     "data": {
      "text/plain": [
       "payment_method\n",
       "credit_card    25\n",
       "debit_card      8\n",
       "paypal          7\n",
       "Name: count, dtype: int64"
      ]
     },
     "execution_count": 11,
     "metadata": {},
     "output_type": "execute_result"
    }
   ],
   "source": [
    "fct_payments[(fct_payments['transaction_date'] >= '2025-04-01') & (fct_payments['transaction_date'] <= '2025-06-30')]['payment_method'].value_counts()"
   ]
  },
  {
   "cell_type": "code",
   "execution_count": 12,
   "id": "0561ffd2",
   "metadata": {},
   "outputs": [
    {
     "name": "stdout",
     "output_type": "stream",
     "text": [
      "payment_method\n",
      "credit_card    25\n",
      "debit_card      8\n",
      "paypal          7\n",
      "Name: count, dtype: int64\n"
     ]
    }
   ],
   "source": [
    "print(fct_payments[(fct_payments['transaction_date'] >= '2025-04-01') & (fct_payments['transaction_date'] <= '2025-06-30')]['payment_method'].value_counts())"
   ]
  },
  {
   "cell_type": "markdown",
   "id": "2d292458",
   "metadata": {},
   "source": [
    "### 2\n",
    "Between April 1st and June 30th, 2025, what is the average order value for each payment method? This metric will help us assess which payment methods are tied to higher spending levels.\n"
   ]
  },
  {
   "cell_type": "code",
   "execution_count": 13,
   "id": "43f6354b",
   "metadata": {},
   "outputs": [
    {
     "data": {
      "text/plain": [
       "payment_method\n",
       "credit_card    281.6\n",
       "debit_card      90.0\n",
       "paypal          70.0\n",
       "Name: order_value, dtype: float64"
      ]
     },
     "execution_count": 13,
     "metadata": {},
     "output_type": "execute_result"
    }
   ],
   "source": [
    "q2_payments.groupby('payment_method')['order_value'].mean()"
   ]
  },
  {
   "cell_type": "code",
   "execution_count": 14,
   "id": "f9ee240e",
   "metadata": {},
   "outputs": [
    {
     "name": "stdout",
     "output_type": "stream",
     "text": [
      "payment_method\n",
      "credit_card    281.6\n",
      "debit_card      90.0\n",
      "paypal          70.0\n",
      "Name: order_value, dtype: float64\n"
     ]
    }
   ],
   "source": [
    "print(fct_payments[(fct_payments['transaction_date'] >= '2025-04-01') & (fct_payments['transaction_date'] <= '2025-06-30')].groupby('payment_method')['order_value'].mean())"
   ]
  },
  {
   "cell_type": "markdown",
   "id": "5afe60c4",
   "metadata": {},
   "source": [
    "### 3\n",
    "Between April 1st and June 30th, 2025, what would be the predicted sales lift if a 'pay over time' option were introduced? Assume that 20% of credit card transactions during this period would switch to using the 'pay over time' option. And that for these switched transactions, the order value is expected to increase by 15% based on the average order value of all credit card transactions in that same time period."
   ]
  },
  {
   "cell_type": "code",
   "execution_count": 16,
   "id": "0708340c",
   "metadata": {},
   "outputs": [
    {
     "data": {
      "text/html": [
       "<div>\n",
       "<style scoped>\n",
       "    .dataframe tbody tr th:only-of-type {\n",
       "        vertical-align: middle;\n",
       "    }\n",
       "\n",
       "    .dataframe tbody tr th {\n",
       "        vertical-align: top;\n",
       "    }\n",
       "\n",
       "    .dataframe thead th {\n",
       "        text-align: right;\n",
       "    }\n",
       "</style>\n",
       "<table border=\"1\" class=\"dataframe\">\n",
       "  <thead>\n",
       "    <tr style=\"text-align: right;\">\n",
       "      <th></th>\n",
       "      <th>customer_id</th>\n",
       "      <th>order_value</th>\n",
       "      <th>payment_method</th>\n",
       "      <th>transaction_id</th>\n",
       "      <th>transaction_date</th>\n",
       "    </tr>\n",
       "  </thead>\n",
       "  <tbody>\n",
       "    <tr>\n",
       "      <th>10</th>\n",
       "      <td>101</td>\n",
       "      <td>275</td>\n",
       "      <td>credit_card</td>\n",
       "      <td>11</td>\n",
       "      <td>2025-04-02</td>\n",
       "    </tr>\n",
       "    <tr>\n",
       "      <th>11</th>\n",
       "      <td>102</td>\n",
       "      <td>285</td>\n",
       "      <td>credit_card</td>\n",
       "      <td>12</td>\n",
       "      <td>2025-04-05</td>\n",
       "    </tr>\n",
       "    <tr>\n",
       "      <th>12</th>\n",
       "      <td>103</td>\n",
       "      <td>280</td>\n",
       "      <td>credit_card</td>\n",
       "      <td>13</td>\n",
       "      <td>2025-04-10</td>\n",
       "    </tr>\n",
       "    <tr>\n",
       "      <th>13</th>\n",
       "      <td>104</td>\n",
       "      <td>290</td>\n",
       "      <td>credit_card</td>\n",
       "      <td>14</td>\n",
       "      <td>2025-04-15</td>\n",
       "    </tr>\n",
       "    <tr>\n",
       "      <th>14</th>\n",
       "      <td>105</td>\n",
       "      <td>270</td>\n",
       "      <td>credit_card</td>\n",
       "      <td>15</td>\n",
       "      <td>2025-04-20</td>\n",
       "    </tr>\n",
       "  </tbody>\n",
       "</table>\n",
       "</div>"
      ],
      "text/plain": [
       "    customer_id  order_value payment_method  transaction_id transaction_date\n",
       "10          101          275    credit_card              11       2025-04-02\n",
       "11          102          285    credit_card              12       2025-04-05\n",
       "12          103          280    credit_card              13       2025-04-10\n",
       "13          104          290    credit_card              14       2025-04-15\n",
       "14          105          270    credit_card              15       2025-04-20"
      ]
     },
     "execution_count": 16,
     "metadata": {},
     "output_type": "execute_result"
    }
   ],
   "source": [
    "q2_cards = q2_payments[q2_payments['payment_method'] == 'credit_card']\n",
    "q2_cards.head()"
   ]
  },
  {
   "cell_type": "code",
   "execution_count": 22,
   "id": "078ab324",
   "metadata": {},
   "outputs": [],
   "source": [
    "switch = q2_cards['transaction_id'].nunique() * 0.20"
   ]
  },
  {
   "cell_type": "code",
   "execution_count": 23,
   "id": "46ad53aa",
   "metadata": {},
   "outputs": [
    {
     "data": {
      "text/plain": [
       "281.6"
      ]
     },
     "execution_count": 23,
     "metadata": {},
     "output_type": "execute_result"
    }
   ],
   "source": [
    "avg_card = q2_cards['order_value'].mean()\n",
    "avg_card"
   ]
  },
  {
   "cell_type": "code",
   "execution_count": 24,
   "id": "f26dc4cd",
   "metadata": {},
   "outputs": [],
   "source": [
    "uplift = avg_card * 1.15"
   ]
  },
  {
   "cell_type": "code",
   "execution_count": 25,
   "id": "2e07700b",
   "metadata": {},
   "outputs": [
    {
     "data": {
      "text/plain": [
       "211.19999999999982"
      ]
     },
     "execution_count": 25,
     "metadata": {},
     "output_type": "execute_result"
    }
   ],
   "source": [
    "total_uplift = (switch * uplift) - (switch * avg_card)\n",
    "total_uplift"
   ]
  }
 ],
 "metadata": {
  "kernelspec": {
   "display_name": "base",
   "language": "python",
   "name": "python3"
  },
  "language_info": {
   "codemirror_mode": {
    "name": "ipython",
    "version": 3
   },
   "file_extension": ".py",
   "mimetype": "text/x-python",
   "name": "python",
   "nbconvert_exporter": "python",
   "pygments_lexer": "ipython3",
   "version": "3.12.7"
  }
 },
 "nbformat": 4,
 "nbformat_minor": 5
}

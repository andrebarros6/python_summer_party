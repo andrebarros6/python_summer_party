{
 "cells": [
  {
   "cell_type": "markdown",
   "id": "b5f79399",
   "metadata": {},
   "source": [
    "Hey there! 👋 Welcome to Day 7 of the Python Party! 🎉\n",
    "\n",
    "I'm Dawn, and I'll be your coding companion today. We're going to work on some fun Python challenges using pandas and data analysis.\n",
    "\n",
    "Let's dive into today's challenge!\n",
    "\n",
    "You are a Product Analyst working on Nike's marketing performance team. Your team wants to evaluate the effectiveness of celebrity product collaborations by analyzing sales data. You will investigate the performance of celebrity product drops to inform future marketing strategies."
   ]
  },
  {
   "cell_type": "code",
   "execution_count": 2,
   "id": "43136a77",
   "metadata": {},
   "outputs": [],
   "source": [
    "import pandas as pd\n",
    "import numpy as np"
   ]
  },
  {
   "cell_type": "code",
   "execution_count": 3,
   "id": "6941eee4",
   "metadata": {},
   "outputs": [
    {
     "data": {
      "text/html": [
       "<div>\n",
       "<style scoped>\n",
       "    .dataframe tbody tr th:only-of-type {\n",
       "        vertical-align: middle;\n",
       "    }\n",
       "\n",
       "    .dataframe tbody tr th {\n",
       "        vertical-align: top;\n",
       "    }\n",
       "\n",
       "    .dataframe thead th {\n",
       "        text-align: right;\n",
       "    }\n",
       "</style>\n",
       "<table border=\"1\" class=\"dataframe\">\n",
       "  <thead>\n",
       "    <tr style=\"text-align: right;\">\n",
       "      <th></th>\n",
       "      <th>sale_id</th>\n",
       "      <th>sale_date</th>\n",
       "      <th>product_id</th>\n",
       "      <th>sale_amount</th>\n",
       "      <th>celebrity_id</th>\n",
       "    </tr>\n",
       "  </thead>\n",
       "  <tbody>\n",
       "    <tr>\n",
       "      <th>0</th>\n",
       "      <td>1</td>\n",
       "      <td>2025-01-10</td>\n",
       "      <td>901</td>\n",
       "      <td>NaN</td>\n",
       "      <td>101</td>\n",
       "    </tr>\n",
       "    <tr>\n",
       "      <th>1</th>\n",
       "      <td>2</td>\n",
       "      <td>2025-01-15</td>\n",
       "      <td>901</td>\n",
       "      <td>1500.00</td>\n",
       "      <td>101</td>\n",
       "    </tr>\n",
       "    <tr>\n",
       "      <th>2</th>\n",
       "      <td>3</td>\n",
       "      <td>2025-02-03</td>\n",
       "      <td>902</td>\n",
       "      <td>2000.50</td>\n",
       "      <td>102</td>\n",
       "    </tr>\n",
       "    <tr>\n",
       "      <th>3</th>\n",
       "      <td>4</td>\n",
       "      <td>2025-03-12</td>\n",
       "      <td>903</td>\n",
       "      <td>2500.75</td>\n",
       "      <td>103</td>\n",
       "    </tr>\n",
       "    <tr>\n",
       "      <th>4</th>\n",
       "      <td>5</td>\n",
       "      <td>2025-03-20</td>\n",
       "      <td>904</td>\n",
       "      <td>NaN</td>\n",
       "      <td>104</td>\n",
       "    </tr>\n",
       "    <tr>\n",
       "      <th>5</th>\n",
       "      <td>6</td>\n",
       "      <td>2025-02-28</td>\n",
       "      <td>901</td>\n",
       "      <td>1000.00</td>\n",
       "      <td>101</td>\n",
       "    </tr>\n",
       "    <tr>\n",
       "      <th>6</th>\n",
       "      <td>7</td>\n",
       "      <td>2025-03-25</td>\n",
       "      <td>902</td>\n",
       "      <td>300.00</td>\n",
       "      <td>102</td>\n",
       "    </tr>\n",
       "    <tr>\n",
       "      <th>7</th>\n",
       "      <td>8</td>\n",
       "      <td>2025-03-30</td>\n",
       "      <td>905</td>\n",
       "      <td>1800.00</td>\n",
       "      <td>105</td>\n",
       "    </tr>\n",
       "    <tr>\n",
       "      <th>8</th>\n",
       "      <td>9</td>\n",
       "      <td>2025-01-20</td>\n",
       "      <td>903</td>\n",
       "      <td>1200.00</td>\n",
       "      <td>103</td>\n",
       "    </tr>\n",
       "    <tr>\n",
       "      <th>9</th>\n",
       "      <td>10</td>\n",
       "      <td>2025-02-05</td>\n",
       "      <td>906</td>\n",
       "      <td>500.00</td>\n",
       "      <td>106</td>\n",
       "    </tr>\n",
       "  </tbody>\n",
       "</table>\n",
       "</div>"
      ],
      "text/plain": [
       "   sale_id   sale_date  product_id  sale_amount  celebrity_id\n",
       "0        1  2025-01-10         901          NaN           101\n",
       "1        2  2025-01-15         901      1500.00           101\n",
       "2        3  2025-02-03         902      2000.50           102\n",
       "3        4  2025-03-12         903      2500.75           103\n",
       "4        5  2025-03-20         904          NaN           104\n",
       "5        6  2025-02-28         901      1000.00           101\n",
       "6        7  2025-03-25         902       300.00           102\n",
       "7        8  2025-03-30         905      1800.00           105\n",
       "8        9  2025-01-20         903      1200.00           103\n",
       "9       10  2025-02-05         906       500.00           106"
      ]
     },
     "execution_count": 3,
     "metadata": {},
     "output_type": "execute_result"
    }
   ],
   "source": [
    "fct_sales = pd.read_csv(r\"C:\\Users\\abarr\\Desktop\\ironhack\\extra\\python summer party\\day7\\sales.csv\")\n",
    "fct_sales.head(10)"
   ]
  },
  {
   "cell_type": "code",
   "execution_count": 7,
   "id": "42dd3a9a",
   "metadata": {},
   "outputs": [
    {
     "name": "stdout",
     "output_type": "stream",
     "text": [
      "<class 'pandas.core.frame.DataFrame'>\n",
      "RangeIndex: 19 entries, 0 to 18\n",
      "Data columns (total 5 columns):\n",
      " #   Column        Non-Null Count  Dtype         \n",
      "---  ------        --------------  -----         \n",
      " 0   sale_id       19 non-null     int64         \n",
      " 1   sale_date     19 non-null     datetime64[ns]\n",
      " 2   product_id    19 non-null     int64         \n",
      " 3   sale_amount   16 non-null     float64       \n",
      " 4   celebrity_id  19 non-null     int64         \n",
      "dtypes: datetime64[ns](1), float64(1), int64(3)\n",
      "memory usage: 892.0 bytes\n"
     ]
    }
   ],
   "source": [
    "fct_sales.info()"
   ]
  },
  {
   "cell_type": "code",
   "execution_count": 6,
   "id": "91a84dbe",
   "metadata": {},
   "outputs": [],
   "source": [
    "fct_sales['sale_date'] = pd.to_datetime(fct_sales['sale_date'], format='%Y-%m-%d')"
   ]
  },
  {
   "cell_type": "markdown",
   "id": "a868fd3a",
   "metadata": {},
   "source": [
    "### 1\n",
    "For Q1 2025 (January 1st through March 31st, 2025), can you identify all records of celebrity collaborations from the sales data where the sale_amount is missing? This will help us flag incomplete records that could impact the analysis of Nike's product performance."
   ]
  },
  {
   "cell_type": "code",
   "execution_count": null,
   "id": "f4d2c7c4",
   "metadata": {},
   "outputs": [
    {
     "data": {
      "text/html": [
       "<div>\n",
       "<style scoped>\n",
       "    .dataframe tbody tr th:only-of-type {\n",
       "        vertical-align: middle;\n",
       "    }\n",
       "\n",
       "    .dataframe tbody tr th {\n",
       "        vertical-align: top;\n",
       "    }\n",
       "\n",
       "    .dataframe thead th {\n",
       "        text-align: right;\n",
       "    }\n",
       "</style>\n",
       "<table border=\"1\" class=\"dataframe\">\n",
       "  <thead>\n",
       "    <tr style=\"text-align: right;\">\n",
       "      <th></th>\n",
       "      <th>sale_id</th>\n",
       "      <th>sale_date</th>\n",
       "      <th>product_id</th>\n",
       "      <th>sale_amount</th>\n",
       "      <th>celebrity_id</th>\n",
       "    </tr>\n",
       "  </thead>\n",
       "  <tbody>\n",
       "    <tr>\n",
       "      <th>0</th>\n",
       "      <td>1</td>\n",
       "      <td>2025-01-10</td>\n",
       "      <td>901</td>\n",
       "      <td>NaN</td>\n",
       "      <td>101</td>\n",
       "    </tr>\n",
       "    <tr>\n",
       "      <th>1</th>\n",
       "      <td>2</td>\n",
       "      <td>2025-01-15</td>\n",
       "      <td>901</td>\n",
       "      <td>1500.00</td>\n",
       "      <td>101</td>\n",
       "    </tr>\n",
       "    <tr>\n",
       "      <th>2</th>\n",
       "      <td>3</td>\n",
       "      <td>2025-02-03</td>\n",
       "      <td>902</td>\n",
       "      <td>2000.50</td>\n",
       "      <td>102</td>\n",
       "    </tr>\n",
       "    <tr>\n",
       "      <th>3</th>\n",
       "      <td>4</td>\n",
       "      <td>2025-03-12</td>\n",
       "      <td>903</td>\n",
       "      <td>2500.75</td>\n",
       "      <td>103</td>\n",
       "    </tr>\n",
       "    <tr>\n",
       "      <th>4</th>\n",
       "      <td>5</td>\n",
       "      <td>2025-03-20</td>\n",
       "      <td>904</td>\n",
       "      <td>NaN</td>\n",
       "      <td>104</td>\n",
       "    </tr>\n",
       "  </tbody>\n",
       "</table>\n",
       "</div>"
      ],
      "text/plain": [
       "   sale_id  sale_date  product_id  sale_amount  celebrity_id\n",
       "0        1 2025-01-10         901          NaN           101\n",
       "1        2 2025-01-15         901      1500.00           101\n",
       "2        3 2025-02-03         902      2000.50           102\n",
       "3        4 2025-03-12         903      2500.75           103\n",
       "4        5 2025-03-20         904          NaN           104"
      ]
     },
     "execution_count": 10,
     "metadata": {},
     "output_type": "execute_result"
    }
   ],
   "source": [
    "q1_sales = fct_sales[(fct_sales['sale_date'] >= '2025-01-01') & (fct_sales['sale_date'] <= '2025-03-31')]\n",
    "q1_sales.head()"
   ]
  },
  {
   "cell_type": "code",
   "execution_count": 13,
   "id": "e04fa021",
   "metadata": {},
   "outputs": [
    {
     "data": {
      "text/html": [
       "<div>\n",
       "<style scoped>\n",
       "    .dataframe tbody tr th:only-of-type {\n",
       "        vertical-align: middle;\n",
       "    }\n",
       "\n",
       "    .dataframe tbody tr th {\n",
       "        vertical-align: top;\n",
       "    }\n",
       "\n",
       "    .dataframe thead th {\n",
       "        text-align: right;\n",
       "    }\n",
       "</style>\n",
       "<table border=\"1\" class=\"dataframe\">\n",
       "  <thead>\n",
       "    <tr style=\"text-align: right;\">\n",
       "      <th></th>\n",
       "      <th>sale_id</th>\n",
       "      <th>sale_date</th>\n",
       "      <th>product_id</th>\n",
       "      <th>sale_amount</th>\n",
       "      <th>celebrity_id</th>\n",
       "    </tr>\n",
       "  </thead>\n",
       "  <tbody>\n",
       "    <tr>\n",
       "      <th>0</th>\n",
       "      <td>1</td>\n",
       "      <td>2025-01-10</td>\n",
       "      <td>901</td>\n",
       "      <td>NaN</td>\n",
       "      <td>101</td>\n",
       "    </tr>\n",
       "    <tr>\n",
       "      <th>4</th>\n",
       "      <td>5</td>\n",
       "      <td>2025-03-20</td>\n",
       "      <td>904</td>\n",
       "      <td>NaN</td>\n",
       "      <td>104</td>\n",
       "    </tr>\n",
       "    <tr>\n",
       "      <th>12</th>\n",
       "      <td>13</td>\n",
       "      <td>2025-03-15</td>\n",
       "      <td>909</td>\n",
       "      <td>NaN</td>\n",
       "      <td>102</td>\n",
       "    </tr>\n",
       "  </tbody>\n",
       "</table>\n",
       "</div>"
      ],
      "text/plain": [
       "    sale_id  sale_date  product_id  sale_amount  celebrity_id\n",
       "0         1 2025-01-10         901          NaN           101\n",
       "4         5 2025-03-20         904          NaN           104\n",
       "12       13 2025-03-15         909          NaN           102"
      ]
     },
     "execution_count": 13,
     "metadata": {},
     "output_type": "execute_result"
    }
   ],
   "source": [
    "q1_missing_sales = q1_sales[q1_sales['sale_amount'].isna()]\n",
    "q1_missing_sales"
   ]
  },
  {
   "cell_type": "markdown",
   "id": "5c7713c6",
   "metadata": {},
   "source": [
    "### 2\n",
    "For Q1 2025 (January 1st through March 31st, 2025), can you list the unique combinations of celebrity_id and product_id from the sales table? This will ensure that each collaboration is accurately accounted for in the analysis of Nike's marketing performance."
   ]
  },
  {
   "cell_type": "code",
   "execution_count": null,
   "id": "a9162b3f",
   "metadata": {},
   "outputs": [],
   "source": [
    "combinations = q1_sales[['celebrity_id','product_id']].drop_duplicates()"
   ]
  },
  {
   "cell_type": "code",
   "execution_count": 24,
   "id": "c74b2bf5",
   "metadata": {},
   "outputs": [
    {
     "data": {
      "text/html": [
       "<div>\n",
       "<style scoped>\n",
       "    .dataframe tbody tr th:only-of-type {\n",
       "        vertical-align: middle;\n",
       "    }\n",
       "\n",
       "    .dataframe tbody tr th {\n",
       "        vertical-align: top;\n",
       "    }\n",
       "\n",
       "    .dataframe thead th {\n",
       "        text-align: right;\n",
       "    }\n",
       "</style>\n",
       "<table border=\"1\" class=\"dataframe\">\n",
       "  <thead>\n",
       "    <tr style=\"text-align: right;\">\n",
       "      <th></th>\n",
       "      <th>celebrity_id</th>\n",
       "      <th>product_id</th>\n",
       "    </tr>\n",
       "  </thead>\n",
       "  <tbody>\n",
       "    <tr>\n",
       "      <th>0</th>\n",
       "      <td>101</td>\n",
       "      <td>901</td>\n",
       "    </tr>\n",
       "    <tr>\n",
       "      <th>2</th>\n",
       "      <td>102</td>\n",
       "      <td>902</td>\n",
       "    </tr>\n",
       "    <tr>\n",
       "      <th>3</th>\n",
       "      <td>103</td>\n",
       "      <td>903</td>\n",
       "    </tr>\n",
       "    <tr>\n",
       "      <th>4</th>\n",
       "      <td>104</td>\n",
       "      <td>904</td>\n",
       "    </tr>\n",
       "    <tr>\n",
       "      <th>7</th>\n",
       "      <td>105</td>\n",
       "      <td>905</td>\n",
       "    </tr>\n",
       "    <tr>\n",
       "      <th>9</th>\n",
       "      <td>106</td>\n",
       "      <td>906</td>\n",
       "    </tr>\n",
       "    <tr>\n",
       "      <th>10</th>\n",
       "      <td>107</td>\n",
       "      <td>907</td>\n",
       "    </tr>\n",
       "    <tr>\n",
       "      <th>11</th>\n",
       "      <td>101</td>\n",
       "      <td>908</td>\n",
       "    </tr>\n",
       "    <tr>\n",
       "      <th>12</th>\n",
       "      <td>102</td>\n",
       "      <td>909</td>\n",
       "    </tr>\n",
       "    <tr>\n",
       "      <th>13</th>\n",
       "      <td>108</td>\n",
       "      <td>910</td>\n",
       "    </tr>\n",
       "  </tbody>\n",
       "</table>\n",
       "</div>"
      ],
      "text/plain": [
       "    celebrity_id  product_id\n",
       "0            101         901\n",
       "2            102         902\n",
       "3            103         903\n",
       "4            104         904\n",
       "7            105         905\n",
       "9            106         906\n",
       "10           107         907\n",
       "11           101         908\n",
       "12           102         909\n",
       "13           108         910"
      ]
     },
     "execution_count": 24,
     "metadata": {},
     "output_type": "execute_result"
    }
   ],
   "source": [
    "combinations"
   ]
  },
  {
   "cell_type": "markdown",
   "id": "9cc0a497",
   "metadata": {},
   "source": [
    "### 3\n",
    "For Q1 2025 (January 1st through March 31st, 2025), can you rank the unique celebrity collaborations based on their total sales amounts and list the top 3 collaborations in descending order? This will help recommend the most successful partnerships for Nike's future product drop strategies."
   ]
  },
  {
   "cell_type": "code",
   "execution_count": 35,
   "id": "7aa3403b",
   "metadata": {},
   "outputs": [],
   "source": [
    "top_sales = q1_sales.groupby('celebrity_id')['sale_amount'].sum().sort_values(ascending=False)"
   ]
  },
  {
   "cell_type": "code",
   "execution_count": 36,
   "id": "f2f53a25",
   "metadata": {},
   "outputs": [
    {
     "data": {
      "text/plain": [
       "celebrity_id\n",
       "102    3800.50\n",
       "101    3800.00\n",
       "103    3700.75\n",
       "105    2500.00\n",
       "107    2200.00\n",
       "108     900.00\n",
       "106     500.00\n",
       "104       0.00\n",
       "Name: sale_amount, dtype: float64"
      ]
     },
     "execution_count": 36,
     "metadata": {},
     "output_type": "execute_result"
    }
   ],
   "source": [
    "top_sales"
   ]
  },
  {
   "cell_type": "code",
   "execution_count": 33,
   "id": "3b0b3259",
   "metadata": {},
   "outputs": [],
   "source": [
    "top3 = top_sales.nlargest(3)"
   ]
  },
  {
   "cell_type": "code",
   "execution_count": 34,
   "id": "0b7e17a0",
   "metadata": {},
   "outputs": [
    {
     "data": {
      "text/plain": [
       "celebrity_id\n",
       "102    3800.50\n",
       "101    3800.00\n",
       "103    3700.75\n",
       "Name: sale_amount, dtype: float64"
      ]
     },
     "execution_count": 34,
     "metadata": {},
     "output_type": "execute_result"
    }
   ],
   "source": [
    "top3"
   ]
  }
 ],
 "metadata": {
  "kernelspec": {
   "display_name": "base",
   "language": "python",
   "name": "python3"
  },
  "language_info": {
   "codemirror_mode": {
    "name": "ipython",
    "version": 3
   },
   "file_extension": ".py",
   "mimetype": "text/x-python",
   "name": "python",
   "nbconvert_exporter": "python",
   "pygments_lexer": "ipython3",
   "version": "3.12.7"
  }
 },
 "nbformat": 4,
 "nbformat_minor": 5
}
